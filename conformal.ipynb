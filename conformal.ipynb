{
 "cells": [
  {
   "cell_type": "code",
   "execution_count": 1,
   "id": "8c7f8837",
   "metadata": {},
   "outputs": [],
   "source": [
    "import torch\n",
    "import torch.nn as nn\n",
    "import matplotlib.pyplot as plt\n",
    "import os\n",
    "import seaborn as sns\n",
    "import pandas as pd\n",
    "import numpy as np\n",
    "\n",
    "from torch.optim.optimizer import Optimizer, required\n",
    "import dill as pickle\n",
    "\n",
    "from torch.distributions.normal import Normal\n",
    "\n",
    "from tqdm import tqdm\n",
    "\n",
    "import pysgmcmc\n",
    "from scipy.stats import wasserstein_distance\n",
    "import sys\n",
    "import heteroskedastic_nns.datasets.load_uci\n",
    "#from heteroskedastic_nns.parallel_model import ParallelFF\n",
    "#from heteroskedastic_nns.model import SingleFF\n",
    "from heteroskedastic_nns.datasets.generate_data import prep_synth_data, prep_uci_data\n",
    "from heteroskedastic_nns.utils.utils import plot_result, make_heatmap, plot_parallel_model, plot_split_model, num_grad, vec_num_grad, mult_approx_grad, gam_rho_to_alpha_beta, expected_calibration_error_nfe\n",
    "from torchquad import MonteCarlo, set_up_backend\n",
    "import math\n",
    "from tabulate import tabulate\n",
    "import copy\n",
    "\n",
    "from matplotlib.colors import LogNorm, TwoSlopeNorm"
   ]
  },
  {
   "cell_type": "markdown",
   "id": "e29c150d",
   "metadata": {},
   "source": [
    "# UCI\n"
   ]
  },
  {
   "cell_type": "code",
   "execution_count": 15,
   "id": "09645fa0",
   "metadata": {},
   "outputs": [
    {
     "name": "stdout",
     "output_type": "stream",
     "text": [
      "yacht\n",
      "sdmse\n",
      "tensor(0.0097)\n",
      "tensor(0.)\n",
      "mse\n",
      "tensor(0.0477)\n",
      "tensor(4.5625e-09)\n",
      "mean cov\n",
      "tensor(0.6176)\n",
      "tensor(0.)\n",
      "[(94, tensor(1, device='cuda:0')), (94, tensor(1, device='cuda:0')), (94, tensor(1, device='cuda:0'))]\n"
     ]
    },
    {
     "name": "stderr",
     "output_type": "stream",
     "text": [
      "/tmp/ipykernel_3164635/1863760073.py:25: UserWarning: __floordiv__ is deprecated, and its behavior will change in a future version of pytorch. It currently rounds toward 0 (like the 'trunc' function NOT 'floor'). This results in incorrect rounding for negative values. To keep the current behavior, use torch.div(a, b, rounding_mode='trunc'), or for actual floor division, use torch.div(a, b, rounding_mode='floor').\n",
      "  min_index_2d = (min_index // cal_resids.mean(0).size(1), min_index % cal_resids.mean(0).size(1))\n",
      "/tmp/ipykernel_3164635/1863760073.py:28: UserWarning: __floordiv__ is deprecated, and its behavior will change in a future version of pytorch. It currently rounds toward 0 (like the 'trunc' function NOT 'floor'). This results in incorrect rounding for negative values. To keep the current behavior, use torch.div(a, b, rounding_mode='trunc'), or for actual floor division, use torch.div(a, b, rounding_mode='floor').\n",
      "  ind0 = min_index // cal_resids.mean(0).size(1)\n"
     ]
    }
   ],
   "source": [
    "device = torch.device(\"cuda\" if torch.cuda.is_available() else \"cpu\")\n",
    "torch.manual_seed(0)\n",
    "np.random.seed(224)\n",
    "dataset=\"yacht\"\n",
    "x, y, xt, yt = prep_uci_data(f'{dataset}', device)\n",
    "sum_sdmse = []\n",
    "sum_mse = []\n",
    "sum_cov = []\n",
    "\n",
    "inds = []\n",
    "with torch.no_grad():\n",
    "    for i in range(3):\n",
    "        with open(f'/extra/ucibdl0/ewongtoi/heteroskedastic_nns/conformal-supp/uci/local/{dataset}/run-{i}/first/249999_parallel_model.p', 'rb') as f:\n",
    "\n",
    "            ucimod = (pickle.load(f))\n",
    "\n",
    "        cal_resids = (ucimod(x[1::2, :])['mean'] - y[1::2].unsqueeze(1)).view(y.shape[0] // 2, 101, 2).abs()\n",
    "\n",
    "        quantiles = torch.quantile(cal_resids, 0.682, dim=0)\n",
    "\n",
    "\n",
    "        min_index = torch.argmin(cal_resids.mean(0))\n",
    "\n",
    "        # Convert the 1D index to 2D indices\n",
    "        min_index_2d = (min_index // cal_resids.mean(0).size(1), min_index % cal_resids.mean(0).size(1))\n",
    "\n",
    "\n",
    "        ind0 = min_index // cal_resids.mean(0).size(1)\n",
    "        ind1 = min_index % cal_resids.mean(0).size(1)\n",
    "\n",
    "        inds.append((ind0.item(), ind1))\n",
    "\n",
    "        test_resids = (ucimod(xt)['mean'] - yt.unsqueeze(1)).view(yt.shape[0], 101, 2).abs()\n",
    "\n",
    "        sum_cov.append(((test_resids[:, ind0, ind1] < quantiles[ind0, ind1]) * 1).float().mean())\n",
    "\n",
    "        sum_sdmse.append((test_resids[:, ind0, ind1] - quantiles[ind0, ind1].unsqueeze(0)).pow(2).mean(0))\n",
    "        sum_mse.append(test_resids.mean(0)[ind0, ind1])\n",
    "    \n",
    "sdmse_tensor = torch.tensor(sum_sdmse)\n",
    "mse_tensor = torch.tensor(sum_mse)\n",
    "cov_tensor = torch.tensor(sum_cov)\n",
    "\n",
    "print(dataset)\n",
    "print('sdmse')\n",
    "print(sdmse_tensor.mean())\n",
    "print(sdmse_tensor.var().pow(.5))\n",
    "\n",
    "print('mse')\n",
    "print(mse_tensor.mean())\n",
    "print(mse_tensor.var().pow(.5))\n",
    "\n",
    "print('mean cov')\n",
    "print(cov_tensor.mean())\n",
    "print(cov_tensor.var().pow(.5))\n",
    "\n",
    "print(inds)\n"
   ]
  },
  {
   "cell_type": "code",
   "execution_count": 13,
   "id": "76f15c14",
   "metadata": {},
   "outputs": [
    {
     "name": "stderr",
     "output_type": "stream",
     "text": [
      "/tmp/ipykernel_2828124/371586769.py:33: UserWarning: __floordiv__ is deprecated, and its behavior will change in a future version of pytorch. It currently rounds toward 0 (like the 'trunc' function NOT 'floor'). This results in incorrect rounding for negative values. To keep the current behavior, use torch.div(a, b, rounding_mode='trunc'), or for actual floor division, use torch.div(a, b, rounding_mode='floor').\n",
      "  ind0 = (mn_min_index[0] + sd_min_index[0]) // 2\n"
     ]
    },
    {
     "name": "stdout",
     "output_type": "stream",
     "text": [
      "sdmse\n",
      "tensor(0.0305)\n",
      "tensor(0.)\n",
      "mse\n",
      "tensor(0.1853)\n",
      "tensor(1.6323e-08)\n",
      "mean cov\n",
      "tensor(0.6864)\n",
      "tensor(0.)\n",
      "[(92, 0), (92, 0), (92, 0), (92, 0), (92, 0), (92, 0)]\n"
     ]
    }
   ],
   "source": [
    "# hetero coverage\n",
    "\n",
    "device = torch.device(\"cuda\" if torch.cuda.is_available() else \"cpu\")\n",
    "torch.manual_seed(0)\n",
    "np.random.seed(224)\n",
    "dataset=\"power\"\n",
    "x, y, xt, yt = prep_uci_data(f'{dataset}', device)\n",
    "sum_sdmse1 = []\n",
    "sum_mse = []\n",
    "sum_cov = []\n",
    "\n",
    "inds = []\n",
    "with torch.no_grad():\n",
    "    for i in range(6):\n",
    "        with open(f'/extra/ucibdl0/ewongtoi/heteroskedastic_nns/conformal-supp/uci/local/{dataset}/run-{i}/first/49999_parallel_model.p', 'rb') as f:\n",
    "\n",
    "            ucimod = (pickle.load(f))\n",
    "\n",
    "        cal_resids1 = (ucimod(x[1::2, :])['mean'] - y[1::2].unsqueeze(1)).view(y.shape[0] // 2, 101, 2).abs()\n",
    "\n",
    "        sds1 = ucimod(x[1::2, :])['precision'].pow(-.5).view(y.shape[0] // 2, 101, 2)\n",
    "        conform_scores = cal_resids1 / sds1\n",
    "\n",
    "        sdmses = (cal_resids1 - sds1).pow(2).mean(0)\n",
    "\n",
    "        quantiles1 = torch.quantile(conform_scores, 0.682, dim=0)\n",
    "\n",
    "\n",
    "        mn_min_index = torch.argmin(cal_resids1.mean(0), dim=0)\n",
    "        sd_min_index = torch.argmin(sdmses, dim=0)\n",
    "\n",
    "\n",
    "        ind0 = (mn_min_index[0] + sd_min_index[0]) // 2 \n",
    "        ind1 = 0\n",
    "\n",
    "\n",
    "        inds.append((ind0.item(), ind1))\n",
    "\n",
    "        test_resids1 = (ucimod(xt)['mean'] - yt.unsqueeze(1)).view(yt.shape[0], 101, 2).abs()\n",
    "\n",
    "        test_sds1 = ucimod(xt)['precision'].pow(-.5).view(yt.shape[0], 101, 2)\n",
    "\n",
    "        sum_cov.append(((test_resids1[:, ind0, ind1] < quantiles1[ind0, ind1] * test_sds1[:, ind0, ind1]) * 1).float().mean())\n",
    "\n",
    "        sum_sdmse1.append((test_resids1[:, ind0, ind1] - (quantiles1[ind0, ind1]  * test_sds1[:, ind0, ind1]).unsqueeze(0)).pow(2).mean(0).mean())\n",
    "        sum_mse.append(test_resids1.mean(0)[ind0, ind1])\n",
    "    \n",
    "sdmse_tensor = torch.tensor(sum_sdmse1)\n",
    "mse_tensor = torch.tensor(sum_mse)\n",
    "cov_tensor = torch.tensor(sum_cov)\n",
    "\n",
    "print('sdmse')\n",
    "print(sdmse_tensor.mean())\n",
    "print(sdmse_tensor.var().pow(.5))\n",
    "\n",
    "print('mse')\n",
    "print(mse_tensor.mean())\n",
    "print(mse_tensor.var().pow(.5))\n",
    "\n",
    "print('mean cov')\n",
    "print(cov_tensor.mean())\n",
    "print(cov_tensor.var().pow(.5))\n",
    "\n",
    "print(inds)"
   ]
  },
  {
   "cell_type": "markdown",
   "id": "afc5802a",
   "metadata": {},
   "source": [
    "# Synthetic"
   ]
  },
  {
   "cell_type": "code",
   "execution_count": 63,
   "id": "90913130",
   "metadata": {},
   "outputs": [
    {
     "name": "stderr",
     "output_type": "stream",
     "text": [
      "/tmp/ipykernel_3164635/3233387471.py:24: UserWarning: __floordiv__ is deprecated, and its behavior will change in a future version of pytorch. It currently rounds toward 0 (like the 'trunc' function NOT 'floor'). This results in incorrect rounding for negative values. To keep the current behavior, use torch.div(a, b, rounding_mode='trunc'), or for actual floor division, use torch.div(a, b, rounding_mode='floor').\n",
      "  min_index_2d = (min_index // cal_resids.mean(0).size(1), min_index % cal_resids.mean(0).size(1))\n",
      "/tmp/ipykernel_3164635/3233387471.py:27: UserWarning: __floordiv__ is deprecated, and its behavior will change in a future version of pytorch. It currently rounds toward 0 (like the 'trunc' function NOT 'floor'). This results in incorrect rounding for negative values. To keep the current behavior, use torch.div(a, b, rounding_mode='trunc'), or for actual floor division, use torch.div(a, b, rounding_mode='floor').\n",
      "  ind0 = min_index // cal_resids.mean(0).size(1)\n"
     ]
    },
    {
     "name": "stdout",
     "output_type": "stream",
     "text": [
      "sdmse\n",
      "tensor(0.3482)\n",
      "tensor(0.1379)\n",
      "mse\n",
      "tensor(0.5250)\n",
      "tensor(0.1096)\n",
      "mean cov\n",
      "tensor(0.7135)\n",
      "tensor(0.0468)\n"
     ]
    }
   ],
   "source": [
    "datasetname = \"3\"\n",
    "dataset = '3'\n",
    "\n",
    "x, y, _ = prep_synth_data(dataset, device, seed=1000, sample_size=64, het=True)\n",
    "xcal = x[1::2]\n",
    "ycal = y[1::2]\n",
    "\n",
    "xt, yt, _ = prep_synth_data(dataset, device, seed=1001, sample_size=64, het=True)\n",
    "torch.manual_seed(99)\n",
    "with torch.no_grad():\n",
    "    for i in range(6):\n",
    "        #with open(f'/extra/ucibdl0/ewongtoi/heteroskedastic_nns/synth_exps/{datasetname}-conformal/run-{i}/first/19999_parallel_model.p', 'rb') as f:\n",
    "        with open(f'/extra/ucibdl0/ewongtoi/heteroskedastic_nns/conformal-supp/synth/local/{datasetname}/run-{i}/first/599999_parallel_model.p', 'rb') as f:\n",
    "            mod1d = (pickle.load(f))\n",
    "\n",
    "        cal_resids = (mod1d(xcal)['mean'] - ycal.unsqueeze(1)).abs()\n",
    "\n",
    "        quantiles = torch.quantile(cal_resids, 0.682, dim=0)\n",
    "\n",
    "\n",
    "        min_index = torch.argmin(cal_resids.mean(0))\n",
    "\n",
    "        # Convert the 1D index to 2D indices\n",
    "        min_index_2d = (min_index // cal_resids.mean(0).size(1), min_index % cal_resids.mean(0).size(1))\n",
    "\n",
    "\n",
    "        ind0 = min_index // cal_resids.mean(0).size(1)\n",
    "        ind1 = 0 #min_index % cal_resids.mean(0).size(1)\n",
    "\n",
    "        test_resids = (mod1d(xt)['mean'] - yt.unsqueeze(1)).abs()\n",
    "\n",
    "        sum_cov.append(((test_resids[:, ind0, ind1] < quantiles[ind0, ind1]) * 1).float().mean())\n",
    "\n",
    "        sum_sdmse.append((test_resids[:, ind0, ind1] - quantiles[ind0, ind1].unsqueeze(0)).pow(2).mean(0))\n",
    "        sum_mse.append(test_resids.mean(0)[ind0, ind1])\n",
    "    \n",
    "sdmse_tensor = torch.tensor(sum_sdmse)\n",
    "mse_tensor = torch.tensor(sum_mse)\n",
    "cov_tensor = torch.tensor(sum_cov)\n",
    "\n",
    "print('sdmse')\n",
    "print(sdmse_tensor.mean())\n",
    "print(sdmse_tensor.var().pow(.5))\n",
    "\n",
    "print('mse')\n",
    "print(mse_tensor.mean())\n",
    "print(mse_tensor.var().pow(.5))\n",
    "\n",
    "print('mean cov')\n",
    "print(cov_tensor.mean())\n",
    "print(cov_tensor.var().pow(.5))"
   ]
  },
  {
   "cell_type": "code",
   "execution_count": 71,
   "id": "7c57696d",
   "metadata": {},
   "outputs": [
    {
     "name": "stderr",
     "output_type": "stream",
     "text": [
      "/tmp/ipykernel_3164635/330612738.py:39: UserWarning: __floordiv__ is deprecated, and its behavior will change in a future version of pytorch. It currently rounds toward 0 (like the 'trunc' function NOT 'floor'). This results in incorrect rounding for negative values. To keep the current behavior, use torch.div(a, b, rounding_mode='trunc'), or for actual floor division, use torch.div(a, b, rounding_mode='floor').\n",
      "  ind0 = (mn_min_index[0] + sd_min_index[0]) // 2\n"
     ]
    },
    {
     "name": "stdout",
     "output_type": "stream",
     "text": [
      "sdmse\n",
      "tensor(0.3252)\n",
      "tensor(7.6827e-06)\n",
      "mse\n",
      "tensor(0.8181)\n",
      "tensor(1.5632e-06)\n",
      "mean cov\n",
      "tensor(0.6061)\n",
      "tensor(6.5294e-08)\n",
      "[(48, 0), (50, 0), (50, 0), (45, 0), (48, 0), (46, 0)]\n"
     ]
    }
   ],
   "source": [
    "# hetero coverage\n",
    "datasetname = \"sine\"\n",
    "dataset = 'sine'\n",
    "\n",
    "x, y, _ = prep_synth_data(dataset, device, seed=1000, sample_size=64, het=True)\n",
    "xcal = x[1::2]\n",
    "ycal = y[1::2]\n",
    "\n",
    "xt, yt, _ = prep_synth_data(dataset, device, seed=1001, sample_size=64, het=True)\n",
    "torch.manual_seed(99)\n",
    "\n",
    "sum_sdmse1 = []\n",
    "sum_mse = []\n",
    "sum_cov = []\n",
    "\n",
    "inds = []\n",
    "\n",
    "with torch.no_grad():\n",
    "    for i in range(6):\n",
    "        #with open(f'/extra/ucibdl0/ewongtoi/heteroskedastic_nns/synth_exps/{datasetname}-conformal/run-{i}/first/19999_parallel_model.p', 'rb') as f:\n",
    "        with open(f'/extra/ucibdl0/ewongtoi/heteroskedastic_nns/conformal-supp/synth/local/{datasetname}/run-{i}/first/599999_parallel_model.p', 'rb') as f:\n",
    "            mod1d = (pickle.load(f))\n",
    "\n",
    "\n",
    "        cal_resids1 = (mod1d(xcal)['mean'] - ycal.unsqueeze(1)).view(len(ycal), 101, 2).abs()\n",
    "\n",
    "        sds1 = mod1d(xcal)['precision'].pow(.5).view(len(ycal), 101, 2)\n",
    "        conform_scores = cal_resids1 / sds1\n",
    "\n",
    "        sdmses = (cal_resids1 - sds1).pow(2).mean(0)\n",
    "\n",
    "        quantiles1 = torch.quantile(conform_scores, 0.682, dim=0)\n",
    "\n",
    "\n",
    "        mn_min_index = torch.argmin(cal_resids1.mean(0), dim=0)\n",
    "        sd_min_index = torch.argmin(sdmses, dim=0)\n",
    "\n",
    "\n",
    "        ind0 = (mn_min_index[0] + sd_min_index[0]) // 2 \n",
    "        ind1 = 0\n",
    "\n",
    "\n",
    "        inds.append((ind0.item(), ind1))\n",
    "\n",
    "        test_resids1 = (mod1d(xt)['mean'] - yt.unsqueeze(1)).view(yt.shape[0], 101, 2).abs()\n",
    "\n",
    "        test_sds1 = mod1d(xt)['precision'].pow(-.5).view(yt.shape[0], 101, 2)\n",
    "\n",
    "        sum_cov.append(((test_resids1[:, ind0, ind1] < quantiles1[ind0, ind1] * test_sds1[:, ind0, ind1]) * 1).float().mean())\n",
    "\n",
    "        sum_sdmse1.append((test_resids1[:, ind0, ind1] - (quantiles1[ind0, ind1]  * test_sds1[:, ind0, ind1]).unsqueeze(0)).pow(2).mean(0).mean())\n",
    "        sum_mse.append(test_resids1.mean(0)[ind0, ind1])\n",
    "    \n",
    "sdmse_tensor = torch.tensor(sum_sdmse1)\n",
    "mse_tensor = torch.tensor(sum_mse)\n",
    "cov_tensor = torch.tensor(sum_cov)\n",
    "\n",
    "print('sdmse')\n",
    "print(sdmse_tensor.mean())\n",
    "print(sdmse_tensor.var().pow(.5))\n",
    "\n",
    "print('mse')\n",
    "print(mse_tensor.mean())\n",
    "print(mse_tensor.var().pow(.5))\n",
    "\n",
    "print('mean cov')\n",
    "print(cov_tensor.mean())\n",
    "print(cov_tensor.var().pow(.5))\n",
    "\n",
    "print(inds)"
   ]
  },
  {
   "cell_type": "code",
   "execution_count": 56,
   "id": "bff1bbac",
   "metadata": {},
   "outputs": [
    {
     "data": {
      "text/plain": [
       "tensor([93, 93], device='cuda:0')"
      ]
     },
     "execution_count": 56,
     "metadata": {},
     "output_type": "execute_result"
    }
   ],
   "source": [
    "cal_resids.view(len(y[1::2]), 101, 2).mean(0).argmin(dim=0)"
   ]
  },
  {
   "cell_type": "code",
   "execution_count": 21,
   "id": "d0ec7792",
   "metadata": {},
   "outputs": [
    {
     "name": "stdout",
     "output_type": "stream",
     "text": [
      "mse\n",
      "tensor(0.1013, device='cuda:0')\n",
      "tensor(0.0067, device='cuda:0')\n",
      "sdmse\n",
      "tensor(0.3081, device='cuda:0')\n",
      "tensor(0.3682, device='cuda:0')\n"
     ]
    }
   ],
   "source": [
    "np.random.seed(224)\n",
    "dataset=\"power\"\n",
    "x, y, xt, yt = prep_uci_data(f'{dataset}', device)\n",
    "i=0\n",
    "with torch.no_grad():\n",
    "    with open(f'./uci-exps/beta_nll-2/{dataset}/run-{i}/first/9999_parallel_model.p', 'rb') as f:\n",
    "\n",
    "        ucibeta= (pickle.load(f))\n",
    "\n",
    "    test_resids = (ucibeta(xt[:, :])['mean'] - yt[::].unsqueeze(1)).abs()\n",
    "\n",
    "    mses = test_resids.pow(2).mean(0)\n",
    "\n",
    "    sdmses = (test_resids - ucibeta(xt)['precision'].pow(-.5)).abs().pow(2).mean(0)\n",
    "print('mse')\n",
    "print(mses[0:6].mean())\n",
    "\n",
    "print(mses[0:6].var().pow(.5))\n",
    "\n",
    "print('sdmse')\n",
    "print(sdmses[0:6].mean())\n",
    "print(sdmses[0:6].var().pow(.5))"
   ]
  },
  {
   "cell_type": "code",
   "execution_count": 27,
   "id": "789dcda9",
   "metadata": {},
   "outputs": [
    {
     "name": "stdout",
     "output_type": "stream",
     "text": [
      "mse\n",
      "tensor(0.0943, device='cuda:0', grad_fn=<MeanBackward0>)\n",
      "tensor(0.0058, device='cuda:0', grad_fn=<PowBackward0>)\n",
      "sdmse\n",
      "tensor(1.0137, device='cuda:0', grad_fn=<MeanBackward0>)\n",
      "tensor(0.0066, device='cuda:0', grad_fn=<PowBackward0>)\n"
     ]
    }
   ],
   "source": [
    "np.random.seed(224)\n",
    "dataset=\"power\"\n",
    "x, y, xt, yt = prep_uci_data(f'{dataset}', device)\n",
    "i=0\n",
    "with open(f'./uci-exps/beta_nll-2/{dataset}/run-{i}/first/4999_parallel_model.p', 'rb') as f:\n",
    "    \n",
    "    ucibeta= (pickle.load(f))\n",
    "\n",
    "test_resids = (ucibeta(xt[:, :])['mean'] - yt[::].unsqueeze(1)).abs()\n",
    "\n",
    "mses = test_resids.pow(2).mean(0)\n",
    "\n",
    "sdmses = (test_resids - ucibeta(xt)['precision'].pow(-.5)).abs().pow(2).mean(0)\n",
    "print('mse')\n",
    "print(mses[0:6].mean())\n",
    "\n",
    "print(mses[0:6].var().pow(.5))\n",
    "\n",
    "print('sdmse')\n",
    "print(sdmses[0:6].mean())\n",
    "print(sdmses[0:6].var().pow(.5))"
   ]
  },
  {
   "cell_type": "code",
   "execution_count": null,
   "id": "d952936a",
   "metadata": {},
   "outputs": [],
   "source": [
    "device = torch.device(\"cuda\" if torch.cuda.is_available() else \"cpu\")\n",
    "torch.manual_seed(0)\n",
    "np.random.seed(224)\n",
    "datasetname = \"sine\"\n",
    "dataset = 'sine'\n",
    "\n",
    "sum_sdmse = []\n",
    "sum_mse = []\n",
    "\n",
    "x, y, _ = prep_synth_data(dataset, device, seed=1000, sample_size=64, het=True)\n",
    "\n",
    "\n",
    "xt, yt, _ = prep_synth_data(dataset, device, seed=1001, sample_size=64, het=True)\n",
    "with open(f'./uci-exps/beta_nll-2/{dataset}/run-{i}/first/4999_parallel_model.p', 'rb') as f:\n",
    "    \n",
    "    ucibeta= (pickle.load(f))\n",
    "\n",
    "test_resids = (ucibeta(xt[:, :])['mean'] - yt[::].unsqueeze(1)).abs()\n",
    "\n",
    "mses = test_resids.pow(2).mean(0)\n",
    "\n",
    "sdmses = (test_resids - ucibeta(xt)['precision'].pow(-.5)).abs().pow(2).mean(0)\n",
    "print('mse')\n",
    "print(mses[0:6].mean())\n",
    "\n",
    "print(mses[0:6].var().pow(.5))\n",
    "\n",
    "print('sdmse')\n",
    "print(sdmses[0:6].mean())\n",
    "print(sdmses[0:6].var().pow(.5))"
   ]
  },
  {
   "cell_type": "code",
   "execution_count": 2,
   "id": "b2df5751",
   "metadata": {},
   "outputs": [
    {
     "name": "stdout",
     "output_type": "stream",
     "text": [
      "sdmse\n",
      "tensor(0.4933, device='cuda:0', grad_fn=<MeanBackward0>)\n",
      "tensor(0.0909, device='cuda:0', grad_fn=<PowBackward0>)\n",
      "mse\n",
      "tensor(0.9653, device='cuda:0', grad_fn=<MeanBackward0>)\n",
      "tensor(0.0619, device='cuda:0', grad_fn=<PowBackward0>)\n"
     ]
    }
   ],
   "source": [
    "device = torch.device(\"cuda\" if torch.cuda.is_available() else \"cpu\")\n",
    "torch.manual_seed(0)\n",
    "np.random.seed(224)\n",
    "datasetname = \"sine\"\n",
    "dataset = 'sine'\n",
    "\n",
    "sum_sdmse = []\n",
    "sum_mse = []\n",
    "\n",
    "x, y, _ = prep_synth_data(dataset, device, seed=1000, sample_size=64, het=True)\n",
    "\n",
    "\n",
    "xt, yt, _ = prep_synth_data(dataset, device, seed=1001, sample_size=64, het=True)\n",
    "\n",
    "for i in range(3):\n",
    "    with open(f'/extra/ucibdl0/ewongtoi/heteroskedastic_nns/synth_exps/rebuttal/{datasetname}/run-{i}/first/19999_parallel_model.p', 'rb') as f:\n",
    "    \n",
    "        modl2 = (pickle.load(f))\n",
    "\n",
    "\n",
    "\n",
    "    test_resids = (modl2(xt)['mean'] - yt.unsqueeze(1)).abs()\n",
    "    \n",
    "    mse = test_resids.pow(2).mean(0).view(101, 2)\n",
    "\n",
    "    sdmse = (test_resids - modl2(xt)['precision'].pow(-.5)).pow(2).mean(0).view(101, 2)\n",
    "    \n",
    "\n",
    "    \n",
    "    sum_sdmse.append(sdmse)\n",
    "    sum_mse.append(mse)\n",
    "    \n",
    "sdmse_tensor = torch.cat(sum_sdmse, dim=1)\n",
    "mse_tensor = torch.cat(sum_mse, dim=1)\n",
    "\n",
    "\n",
    "print('sdmse')\n",
    "print(sdmse_tensor.mean())\n",
    "print(sdmse_tensor.var().pow(.5))\n",
    "\n",
    "print('mse')\n",
    "print(mse_tensor.mean())\n",
    "print(mse_tensor.var().pow(.5))\n"
   ]
  },
  {
   "cell_type": "code",
   "execution_count": 9,
   "id": "f4a386e0",
   "metadata": {},
   "outputs": [
    {
     "name": "stdout",
     "output_type": "stream",
     "text": [
      "mse\n",
      "tensor(0.6898, device='cuda:0', grad_fn=<MeanBackward0>)\n",
      "tensor(0.0529, device='cuda:0', grad_fn=<PowBackward0>)\n",
      "sdmse\n",
      "tensor(0.5272, device='cuda:0', grad_fn=<MeanBackward0>)\n",
      "tensor(0.0668, device='cuda:0', grad_fn=<PowBackward0>)\n"
     ]
    }
   ],
   "source": [
    "\n",
    "\n",
    "\n",
    "\n",
    "device = torch.device(\"cuda\" if torch.cuda.is_available() else \"cpu\")\n",
    "torch.manual_seed(0)\n",
    "np.random.seed(224)\n",
    "datasetname = \"sine\"\n",
    "dataset = 'sine'\n",
    "\n",
    "sum_sdmse = []\n",
    "sum_mse = []\n",
    "\n",
    "x, y, _ = prep_synth_data(dataset, device, seed=1000, sample_size=64, het=True)\n",
    "\n",
    "\n",
    "xt, yt, _ = prep_synth_data(dataset, device, seed=1001, sample_size=64, het=True)\n",
    "with open(f'/extra/ucibdl0/ewongtoi/heteroskedastic_nns/synth_exps/rebuttal/sine-beta-nll/run-0/first/49999_parallel_model.p', 'rb') as f:\n",
    "    \n",
    "    beta1d= (pickle.load(f))\n",
    "\n",
    "test_resids = (beta1d(xt[:, :])['mean'] - yt[::].unsqueeze(1)).abs()\n",
    "\n",
    "mses = test_resids.pow(2).mean(0)\n",
    "\n",
    "sdmses = (test_resids - beta1d(xt)['precision'].pow(-.5)).abs().pow(2).mean(0)\n",
    "print('mse')\n",
    "print(mses[0:6].mean())\n",
    "\n",
    "print(mses[0:6].var().pow(.5))\n",
    "\n",
    "print('sdmse')\n",
    "print(sdmses[0:6].mean())\n",
    "print(sdmses[0:6].var().pow(.5))"
   ]
  },
  {
   "cell_type": "code",
   "execution_count": 3,
   "id": "0978d7d1",
   "metadata": {},
   "outputs": [
    {
     "data": {
      "text/plain": [
       "torch.return_types.min(\n",
       "values=tensor([0.4624, 0.4625, 0.4627, 0.4625, 0.4627, 0.4625], device='cuda:0',\n",
       "       grad_fn=<MinBackward0>),\n",
       "indices=tensor([70, 86, 15, 62, 27, 34], device='cuda:0'))"
      ]
     },
     "execution_count": 3,
     "metadata": {},
     "output_type": "execute_result"
    }
   ],
   "source": [
    "sdmse_tensor.min(dim=0)"
   ]
  },
  {
   "cell_type": "code",
   "execution_count": 4,
   "id": "ed557d78",
   "metadata": {},
   "outputs": [
    {
     "name": "stdout",
     "output_type": "stream",
     "text": [
      "tensor([82, 88, 53, 78, 59, 62], device='cuda:0')\n"
     ]
    },
    {
     "name": "stderr",
     "output_type": "stream",
     "text": [
      "/tmp/ipykernel_2262608/2493637657.py:1: UserWarning: __floordiv__ is deprecated, and its behavior will change in a future version of pytorch. It currently rounds toward 0 (like the 'trunc' function NOT 'floor'). This results in incorrect rounding for negative values. To keep the current behavior, use torch.div(a, b, rounding_mode='trunc'), or for actual floor division, use torch.div(a, b, rounding_mode='floor').\n",
      "  min_inds = (mse_tensor.argmin(dim=0) + sdmse_tensor.argmin(dim=0)) // 2\n"
     ]
    }
   ],
   "source": [
    "min_inds = (mse_tensor.argmin(dim=0) + sdmse_tensor.argmin(dim=0)) // 2\n",
    "\n",
    "print(min_inds)"
   ]
  },
  {
   "cell_type": "code",
   "execution_count": 8,
   "id": "1971a274",
   "metadata": {},
   "outputs": [
    {
     "name": "stderr",
     "output_type": "stream",
     "text": [
      "/tmp/ipykernel_2259298/4141731975.py:1: UserWarning: __floordiv__ is deprecated, and its behavior will change in a future version of pytorch. It currently rounds toward 0 (like the 'trunc' function NOT 'floor'). This results in incorrect rounding for negative values. To keep the current behavior, use torch.div(a, b, rounding_mode='trunc'), or for actual floor division, use torch.div(a, b, rounding_mode='floor').\n",
      "  (sdmse_tensor.argmin(dim=0) + mse_tensor.argmin(dim=0)) // 2\n"
     ]
    },
    {
     "data": {
      "text/plain": [
       "tensor([82, 88, 53, 78, 59, 62], device='cuda:0')"
      ]
     },
     "execution_count": 8,
     "metadata": {},
     "output_type": "execute_result"
    }
   ],
   "source": [
    "(sdmse_tensor.argmin(dim=0) + mse_tensor.argmin(dim=0)) // 2"
   ]
  },
  {
   "cell_type": "code",
   "execution_count": 2,
   "id": "9fb8bfee",
   "metadata": {},
   "outputs": [],
   "source": [
    "np.random.seed(224)\n",
    "dataset=\"climate\"\n",
    "device = torch.device(\"cuda\" if torch.cuda.is_available() else \"cpu\")\n",
    "x_test=torch.tensor(np.load('/home/ewongtoi/Documents/heteroskedastic_nns/climate/val_input.npy')).to(device)\n",
    "y_test_all=torch.tensor(np.load('/home/ewongtoi/Documents/heteroskedastic_nns/climate/val_target.npy')).to(device)\n",
    "\n",
    "x=torch.tensor(np.load('/home/ewongtoi/Documents/heteroskedastic_nns/climate/train_input.npy')).to(device)\n",
    "y=torch.tensor(np.load('/home/ewongtoi/Documents/heteroskedastic_nns/climate/train_target.npy')).to(device)\n",
    "\n",
    "\n",
    "xcal = x[1::2400, :]\n",
    "ycal = y[1::2400, 123]\n",
    "\n",
    "xtestsub = x_test[::1000, :]\n",
    "ytest = y_test_all[::1000, 123]\n",
    "\n",
    "\n",
    "\n",
    "del(x)\n",
    "del(y)\n",
    "\n",
    "del(x_test)\n",
    "del(y_test_all)"
   ]
  },
  {
   "cell_type": "code",
   "execution_count": 35,
   "id": "bfdb504a",
   "metadata": {},
   "outputs": [
    {
     "name": "stdout",
     "output_type": "stream",
     "text": [
      "mse\n",
      "tensor(0.3771, device='cuda:0')\n",
      "tensor(7.5314e-05, device='cuda:0')\n",
      "sdmse\n",
      "tensor(0.3217, device='cuda:0')\n",
      "tensor(0.0001, device='cuda:0')\n"
     ]
    }
   ],
   "source": [
    "with torch.no_grad():\n",
    "    with open(f'/extra/ucibdl0/ewongtoi/heteroskedastic_nns/climate_exps/solar-flux-beta-nll/run-0/first/11_parallel_model.p', 'rb') as f:\n",
    "\n",
    "        climbeta= (pickle.load(f))\n",
    "\n",
    "\n",
    "    test_outs = climbeta(x_test[::10])\n",
    "    test_resids = (test_outs['mean'] - y_test_all[::10, 124].unsqueeze(1).unsqueeze(1)).abs()\n",
    "\n",
    "    mses = test_resids.pow(2).mean(0)\n",
    "\n",
    "    sdmses = (test_resids - test_outs['precision'].pow(-.5)).abs().pow(2).mean(0)\n",
    "print('mse')\n",
    "print(mses[0:6].mean())\n",
    "\n",
    "print(mses[0:6].var().pow(.5))\n",
    "\n",
    "print('sdmse')\n",
    "print(sdmses[0:6].mean())\n",
    "print(sdmses[0:6].var().pow(.5))"
   ]
  },
  {
   "cell_type": "code",
   "execution_count": 3,
   "id": "7a5ed9e8",
   "metadata": {},
   "outputs": [
    {
     "name": "stderr",
     "output_type": "stream",
     "text": [
      "/tmp/ipykernel_2884246/2521851906.py:32: UserWarning: __floordiv__ is deprecated, and its behavior will change in a future version of pytorch. It currently rounds toward 0 (like the 'trunc' function NOT 'floor'). This results in incorrect rounding for negative values. To keep the current behavior, use torch.div(a, b, rounding_mode='trunc'), or for actual floor division, use torch.div(a, b, rounding_mode='floor').\n",
      "  ind0 = (mn_min_index[0] + sd_min_index[0]) // 2\n"
     ]
    },
    {
     "name": "stdout",
     "output_type": "stream",
     "text": [
      "sdmse\n",
      "tensor(0.0111)\n",
      "tensor(1.1017e-05)\n",
      "mse\n",
      "tensor(0.0486)\n",
      "tensor(9.1057e-05)\n",
      "mean cov\n",
      "tensor(0.5666)\n",
      "tensor(0.0196)\n",
      "[(20, 0), (19, 0), (8, 0), (7, 0), (7, 0), (23, 0)]\n"
     ]
    }
   ],
   "source": [
    "# hetero coverage\n",
    "\n",
    "device = torch.device(\"cuda\" if torch.cuda.is_available() else \"cpu\")\n",
    "torch.manual_seed(0)\n",
    "np.random.seed(224)\n",
    "\n",
    "sum_sdmse1 = []\n",
    "sum_mse = []\n",
    "sum_cov = []\n",
    "\n",
    "inds = []\n",
    "with torch.no_grad():\n",
    "    for i in range(6):\n",
    "        with open(f'/extra/ucibdl0/ewongtoi/heteroskedastic_nns/conformal-supp/climate/solar-flux-local/run-{i}/first/24_parallel_model.p', 'rb') as f:\n",
    "\n",
    "            climmod = (pickle.load(f))\n",
    "\n",
    "        cal_resids1 = (climmod(xcal)['mean'] - ycal.unsqueeze(1).unsqueeze(1)).view(ycal.shape[0], 101, 2).abs()\n",
    "\n",
    "        sds1 = climmod(xcal)['precision'].pow(-.5).view(ycal.shape[0], 101, 2)\n",
    "        conform_scores = cal_resids1 / sds1\n",
    "\n",
    "        sdmses = (cal_resids1 - sds1).pow(2).mean(0)\n",
    "\n",
    "        quantiles1 = torch.quantile(conform_scores, 0.682, dim=0)\n",
    "\n",
    "\n",
    "        mn_min_index = torch.argmin(cal_resids1.mean(0), dim=0)\n",
    "        sd_min_index = torch.argmin(sdmses, dim=0)\n",
    "\n",
    "\n",
    "        ind0 = (mn_min_index[0] + sd_min_index[0]) // 2 \n",
    "        ind1 = 0\n",
    "\n",
    "\n",
    "        inds.append((ind0.item(), ind1))\n",
    "\n",
    "        test_resids1 = (climmod(xtestsub)['mean'] - ytest.unsqueeze(1).unsqueeze(1)).view(ytest.shape[0], 101, 2).abs()\n",
    "\n",
    "        test_sds1 = climmod(xtestsub)['precision'].pow(-.5).view(len(ytest), 101, 2)\n",
    "\n",
    "        sum_cov.append(((test_resids1[:, ind0, ind1] < quantiles1[ind0, ind1] * test_sds1[:, ind0, ind1]) * 1).float().mean())\n",
    "\n",
    "        sum_sdmse1.append((test_resids1[:, ind0, ind1] - (quantiles1[ind0, ind1]  * test_sds1[:, ind0, ind1]).unsqueeze(0)).pow(2).mean(0).mean())\n",
    "        sum_mse.append(test_resids1.mean(0)[ind0, ind1])\n",
    "    \n",
    "sdmse_tensor = torch.tensor(sum_sdmse1)\n",
    "mse_tensor = torch.tensor(sum_mse)\n",
    "cov_tensor = torch.tensor(sum_cov)\n",
    "\n",
    "print('sdmse')\n",
    "print(sdmse_tensor.mean())\n",
    "print(sdmse_tensor.var().pow(.5))\n",
    "\n",
    "print('mse')\n",
    "print(mse_tensor.mean())\n",
    "print(mse_tensor.var().pow(.5))\n",
    "\n",
    "print('mean cov')\n",
    "print(cov_tensor.mean())\n",
    "print(cov_tensor.var().pow(.5))\n",
    "\n",
    "print(inds)"
   ]
  },
  {
   "cell_type": "code",
   "execution_count": 6,
   "id": "3c0653e3",
   "metadata": {},
   "outputs": [
    {
     "name": "stderr",
     "output_type": "stream",
     "text": [
      "/tmp/ipykernel_3164635/2356358947.py:25: UserWarning: __floordiv__ is deprecated, and its behavior will change in a future version of pytorch. It currently rounds toward 0 (like the 'trunc' function NOT 'floor'). This results in incorrect rounding for negative values. To keep the current behavior, use torch.div(a, b, rounding_mode='trunc'), or for actual floor division, use torch.div(a, b, rounding_mode='floor').\n",
      "  min_index_2d = (min_index // cal_resids.mean(0).size(1), min_index % cal_resids.mean(0).size(1))\n",
      "/tmp/ipykernel_3164635/2356358947.py:28: UserWarning: __floordiv__ is deprecated, and its behavior will change in a future version of pytorch. It currently rounds toward 0 (like the 'trunc' function NOT 'floor'). This results in incorrect rounding for negative values. To keep the current behavior, use torch.div(a, b, rounding_mode='trunc'), or for actual floor division, use torch.div(a, b, rounding_mode='floor').\n",
      "  ind0 = min_index // cal_resids.mean(0).size(1)\n"
     ]
    },
    {
     "name": "stdout",
     "output_type": "stream",
     "text": [
      "climate\n",
      "sdmse\n",
      "tensor(0.0111)\n",
      "tensor(3.4375e-06)\n",
      "mse\n",
      "tensor(0.0485)\n",
      "tensor(4.4173e-06)\n",
      "mean cov\n",
      "tensor(0.5943)\n",
      "tensor(0.0153)\n",
      "[(12, tensor(1, device='cuda:0')), (30, tensor(1, device='cuda:0')), (12, tensor(1, device='cuda:0')), (10, tensor(1, device='cuda:0')), (92, tensor(1, device='cuda:0')), (42, tensor(0, device='cuda:0'))]\n"
     ]
    }
   ],
   "source": [
    "device = torch.device(\"cuda\" if torch.cuda.is_available() else \"cpu\")\n",
    "torch.manual_seed(0)\n",
    "np.random.seed(224)\n",
    "dataset=\"climate\"\n",
    "\n",
    "sum_sdmse = []\n",
    "sum_mse = []\n",
    "sum_cov = []\n",
    "\n",
    "inds = []\n",
    "with torch.no_grad():\n",
    "    for i in range(6):\n",
    "        with open(f'/extra/ucibdl0/ewongtoi/heteroskedastic_nns/conformal-supp/climate/solar-flux-local/run-{i}/first/24_parallel_model.p', 'rb') as f:\n",
    "\n",
    "            climmod = (pickle.load(f))\n",
    "\n",
    "        cal_resids = (climmod(xcal)['mean'] - ycal.unsqueeze(1).unsqueeze(1)).view(ycal.shape[0], 101, 2).abs()\n",
    "\n",
    "        quantiles = torch.quantile(cal_resids, 0.682, dim=0)\n",
    "\n",
    "\n",
    "        min_index = torch.argmin(cal_resids.mean(0))\n",
    "\n",
    "        # Convert the 1D index to 2D indices\n",
    "        min_index_2d = (min_index // cal_resids.mean(0).size(1), min_index % cal_resids.mean(0).size(1))\n",
    "\n",
    "\n",
    "        ind0 = min_index // cal_resids.mean(0).size(1)\n",
    "        ind1 = min_index % cal_resids.mean(0).size(1)\n",
    "\n",
    "        inds.append((ind0.item(), ind1))\n",
    "\n",
    "        test_resids = (climmod(xtestsub)['mean'] - ytest.unsqueeze(1).unsqueeze(1)).view(len(ytest), 101, 2).abs()\n",
    "\n",
    "        sum_cov.append(((test_resids[:, ind0, ind1] < quantiles[ind0, ind1]) * 1).float().mean())\n",
    "\n",
    "        sum_sdmse.append((test_resids[:, ind0, ind1] - quantiles[ind0, ind1].unsqueeze(0)).pow(2).mean(0))\n",
    "        sum_mse.append(test_resids.mean(0)[ind0, ind1])\n",
    "    \n",
    "sdmse_tensor = torch.tensor(sum_sdmse)\n",
    "mse_tensor = torch.tensor(sum_mse)\n",
    "cov_tensor = torch.tensor(sum_cov)\n",
    "\n",
    "print(dataset)\n",
    "print('sdmse')\n",
    "print(sdmse_tensor.mean())\n",
    "print(sdmse_tensor.var().pow(.5))\n",
    "\n",
    "print('mse')\n",
    "print(mse_tensor.mean())\n",
    "print(mse_tensor.var().pow(.5))\n",
    "\n",
    "print('mean cov')\n",
    "print(cov_tensor.mean())\n",
    "print(cov_tensor.var().pow(.5))\n",
    "\n",
    "print(inds)"
   ]
  },
  {
   "cell_type": "code",
   "execution_count": null,
   "id": "e09ec7e4",
   "metadata": {},
   "outputs": [],
   "source": []
  }
 ],
 "metadata": {
  "kernelspec": {
   "display_name": "my_laplace",
   "language": "python",
   "name": "my_laplace"
  },
  "language_info": {
   "codemirror_mode": {
    "name": "ipython",
    "version": 3
   },
   "file_extension": ".py",
   "mimetype": "text/x-python",
   "name": "python",
   "nbconvert_exporter": "python",
   "pygments_lexer": "ipython3",
   "version": "3.8.12"
  }
 },
 "nbformat": 4,
 "nbformat_minor": 5
}
